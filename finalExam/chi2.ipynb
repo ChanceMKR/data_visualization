{
 "cells": [
  {
   "cell_type": "code",
   "execution_count": 3,
   "metadata": {},
   "outputs": [],
   "source": [
    "import os\n",
    "import numpy as np\n",
    "import pandas as pd\n",
    "from data_processing.read_data import read_fun"
   ]
  },
  {
   "cell_type": "code",
   "execution_count": 4,
   "metadata": {},
   "outputs": [],
   "source": [
    "now = os.getcwd()\n",
    "os.chdir(now)"
   ]
  },
  {
   "cell_type": "code",
   "execution_count": 5,
   "metadata": {},
   "outputs": [],
   "source": [
    "now = os.getcwd()\n",
    "os.chdir(now)\n",
    "dau = read_fun(path = \"./data/game_user_data\",\n",
    "               folder = \"dau\",\n",
    "               subfolder = \"game-01\")\n",
    "\n",
    "\n",
    "dpu = read_fun(path = \"./data/game_user_data\",\n",
    "               folder = \"dpu\",\n",
    "               subfolder = \"game-01\")\n",
    "\n",
    "dau.head()\n",
    "dau.tail()\n",
    "dpu.head()\n",
    "\n",
    "data = pd.merge(dau, dpu, \n",
    "      on = [\"log_date\", \"app_name\", \"user_id\"],\n",
    "      how = \"left\")\n",
    "data.loc[data.payment.isna(), \"payment\"] = 0 # 구매 NAN을 0으로 대체\n",
    "data.log_date\n",
    "len(data.user_id.unique()) # 한번이라도 접속한 유저수\n",
    "\n",
    "data[\"log_date\"] = pd.to_datetime(data.log_date,\n",
    "                                  format = \"%Y-%m-%d\")\n",
    "data[\"month\"] = data.log_date.dt.month \n",
    "\n",
    "#월별 접속 유저수\n",
    "data.groupby(\"month\").apply( # groupby 한 애들을 apply를 통해서 x에 집어넣는다.\n",
    "    lambda x: len(x.user_id.unique())\n",
    "    )\n",
    "data.groupby(\"month\").payment.mean() # 월별 구매액 평균\n",
    "data.groupby(\"month\").payment.max() # 월별 구매액 최대치 \n",
    "data.groupby(\"month\").payment.agg(avg = \"mean\",\n",
    "                                  maximum = \"max\") # 한번에 보기\n",
    "\n",
    "# 유저별로 각 달마다 결제한 금액\n",
    "# agg 집계함수\n",
    "# agg 함수는 열마다 다른함수를 실행 할 수 있다.\n",
    "data2 = data.groupby([\"month\", \"user_id\"]).\\\n",
    "    agg(log_month = (\"log_date\", lambda x: x.shape[0]),\n",
    "        pay_month = (\"payment\", \"mean\"))\n",
    "    \n",
    "data2.reset_index(drop = False, inplace = True)    \n",
    "\n",
    "log_vs_pay = data2.groupby(\"user_id\").\\\n",
    "    agg({\"log_month\" : \n",
    "             lambda x : str(np.where((x > 15).all(), \"high\", np.where((x > 10).all(), \"mid\", \"low\"))),\n",
    "         \"pay_month\":\n",
    "             lambda x : str(np.where((x > 100).any(), \"high\", np.where((x > 50).any(), \"mid\", \"low\")))})"
   ]
  },
  {
   "cell_type": "code",
   "execution_count": 6,
   "metadata": {},
   "outputs": [
    {
     "data": {
      "text/html": [
       "<div>\n",
       "<style scoped>\n",
       "    .dataframe tbody tr th:only-of-type {\n",
       "        vertical-align: middle;\n",
       "    }\n",
       "\n",
       "    .dataframe tbody tr th {\n",
       "        vertical-align: top;\n",
       "    }\n",
       "\n",
       "    .dataframe thead th {\n",
       "        text-align: right;\n",
       "    }\n",
       "</style>\n",
       "<table border=\"1\" class=\"dataframe\">\n",
       "  <thead>\n",
       "    <tr style=\"text-align: right;\">\n",
       "      <th>pay_month</th>\n",
       "      <th>high</th>\n",
       "      <th>low</th>\n",
       "      <th>mid</th>\n",
       "    </tr>\n",
       "    <tr>\n",
       "      <th>log_month</th>\n",
       "      <th></th>\n",
       "      <th></th>\n",
       "      <th></th>\n",
       "    </tr>\n",
       "  </thead>\n",
       "  <tbody>\n",
       "    <tr>\n",
       "      <th>high</th>\n",
       "      <td>32</td>\n",
       "      <td>885</td>\n",
       "      <td>13</td>\n",
       "    </tr>\n",
       "    <tr>\n",
       "      <th>low</th>\n",
       "      <td>67</td>\n",
       "      <td>52822</td>\n",
       "      <td>53</td>\n",
       "    </tr>\n",
       "    <tr>\n",
       "      <th>mid</th>\n",
       "      <td>13</td>\n",
       "      <td>1020</td>\n",
       "      <td>7</td>\n",
       "    </tr>\n",
       "  </tbody>\n",
       "</table>\n",
       "</div>"
      ],
      "text/plain": [
       "pay_month  high    low  mid\n",
       "log_month                  \n",
       "high         32    885   13\n",
       "low          67  52822   53\n",
       "mid          13   1020    7"
      ]
     },
     "execution_count": 6,
     "metadata": {},
     "output_type": "execute_result"
    }
   ],
   "source": [
    "pd.crosstab(log_vs_pay.log_month,\n",
    "            log_vs_pay.pay_month)"
   ]
  },
  {
   "cell_type": "code",
   "execution_count": 7,
   "metadata": {},
   "outputs": [],
   "source": [
    "log_vs_pay[\"log_month\"] = pd.Categorical(log_vs_pay[\"log_month\"],\n",
    "                                         categories =  [\"low\", \"mid\", \"high\"])\n",
    "log_vs_pay[\"pay_month\"] = pd.Categorical(log_vs_pay[\"pay_month\"],\n",
    "                                         categories = [\"low\", \"mid\", \"high\"])"
   ]
  },
  {
   "cell_type": "code",
   "execution_count": 8,
   "metadata": {},
   "outputs": [
    {
     "data": {
      "text/html": [
       "<div>\n",
       "<style scoped>\n",
       "    .dataframe tbody tr th:only-of-type {\n",
       "        vertical-align: middle;\n",
       "    }\n",
       "\n",
       "    .dataframe tbody tr th {\n",
       "        vertical-align: top;\n",
       "    }\n",
       "\n",
       "    .dataframe thead th {\n",
       "        text-align: right;\n",
       "    }\n",
       "</style>\n",
       "<table border=\"1\" class=\"dataframe\">\n",
       "  <thead>\n",
       "    <tr style=\"text-align: right;\">\n",
       "      <th>pay_month</th>\n",
       "      <th>low</th>\n",
       "      <th>mid</th>\n",
       "      <th>high</th>\n",
       "    </tr>\n",
       "    <tr>\n",
       "      <th>log_month</th>\n",
       "      <th></th>\n",
       "      <th></th>\n",
       "      <th></th>\n",
       "    </tr>\n",
       "  </thead>\n",
       "  <tbody>\n",
       "    <tr>\n",
       "      <th>low</th>\n",
       "      <td>52822</td>\n",
       "      <td>53</td>\n",
       "      <td>67</td>\n",
       "    </tr>\n",
       "    <tr>\n",
       "      <th>mid</th>\n",
       "      <td>1020</td>\n",
       "      <td>7</td>\n",
       "      <td>13</td>\n",
       "    </tr>\n",
       "    <tr>\n",
       "      <th>high</th>\n",
       "      <td>885</td>\n",
       "      <td>13</td>\n",
       "      <td>32</td>\n",
       "    </tr>\n",
       "  </tbody>\n",
       "</table>\n",
       "</div>"
      ],
      "text/plain": [
       "pay_month    low  mid  high\n",
       "log_month                  \n",
       "low        52822   53    67\n",
       "mid         1020    7    13\n",
       "high         885   13    32"
      ]
     },
     "execution_count": 8,
     "metadata": {},
     "output_type": "execute_result"
    }
   ],
   "source": [
    "ct = pd.crosstab(log_vs_pay.log_month,\n",
    "            log_vs_pay.pay_month)\n",
    "ct"
   ]
  },
  {
   "cell_type": "code",
   "execution_count": 9,
   "metadata": {},
   "outputs": [
    {
     "data": {
      "text/plain": [
       "pay_month\n",
       "low     0.996631\n",
       "mid     0.001329\n",
       "high    0.002040\n",
       "dtype: float64"
      ]
     },
     "execution_count": 9,
     "metadata": {},
     "output_type": "execute_result"
    }
   ],
   "source": [
    "cp = ct.sum(axis = 0) / ct.values.sum()\n",
    "cp"
   ]
  },
  {
   "cell_type": "code",
   "execution_count": 10,
   "metadata": {},
   "outputs": [
    {
     "data": {
      "text/plain": [
       "log_month\n",
       "low     0.964124\n",
       "mid     0.018939\n",
       "high    0.016936\n",
       "dtype: float64"
      ]
     },
     "execution_count": 10,
     "metadata": {},
     "output_type": "execute_result"
    }
   ],
   "source": [
    "rp = ct.sum(axis = 1) / ct.values.sum()\n",
    "rp"
   ]
  },
  {
   "cell_type": "code",
   "execution_count": 11,
   "metadata": {},
   "outputs": [
    {
     "data": {
      "text/plain": [
       "array([[5.27636370e+04, 7.03810825e+01, 1.07981935e+02],\n",
       "       [1.03649621e+03, 1.38257576e+00, 2.12121212e+00],\n",
       "       [9.26866805e+02, 1.23634178e+00, 1.89685315e+00]])"
      ]
     },
     "execution_count": 11,
     "metadata": {},
     "output_type": "execute_result"
    }
   ],
   "source": [
    "et = ct.values.sum() * np.outer(rp, cp)\n",
    "et"
   ]
  },
  {
   "cell_type": "code",
   "execution_count": 12,
   "metadata": {},
   "outputs": [
    {
     "data": {
      "text/html": [
       "<div>\n",
       "<style scoped>\n",
       "    .dataframe tbody tr th:only-of-type {\n",
       "        vertical-align: middle;\n",
       "    }\n",
       "\n",
       "    .dataframe tbody tr th {\n",
       "        vertical-align: top;\n",
       "    }\n",
       "\n",
       "    .dataframe thead th {\n",
       "        text-align: right;\n",
       "    }\n",
       "</style>\n",
       "<table border=\"1\" class=\"dataframe\">\n",
       "  <thead>\n",
       "    <tr style=\"text-align: right;\">\n",
       "      <th>pay_month</th>\n",
       "      <th>low</th>\n",
       "      <th>mid</th>\n",
       "      <th>high</th>\n",
       "    </tr>\n",
       "    <tr>\n",
       "      <th>log_month</th>\n",
       "      <th></th>\n",
       "      <th></th>\n",
       "      <th></th>\n",
       "    </tr>\n",
       "  </thead>\n",
       "  <tbody>\n",
       "    <tr>\n",
       "      <th>low</th>\n",
       "      <td>0.001106</td>\n",
       "      <td>-0.246957</td>\n",
       "      <td>-0.379526</td>\n",
       "    </tr>\n",
       "    <tr>\n",
       "      <th>mid</th>\n",
       "      <td>-0.015915</td>\n",
       "      <td>4.063014</td>\n",
       "      <td>5.128571</td>\n",
       "    </tr>\n",
       "    <tr>\n",
       "      <th>high</th>\n",
       "      <td>-0.045170</td>\n",
       "      <td>9.514892</td>\n",
       "      <td>15.870046</td>\n",
       "    </tr>\n",
       "  </tbody>\n",
       "</table>\n",
       "</div>"
      ],
      "text/plain": [
       "pay_month       low       mid       high\n",
       "log_month                               \n",
       "low        0.001106 -0.246957  -0.379526\n",
       "mid       -0.015915  4.063014   5.128571\n",
       "high      -0.045170  9.514892  15.870046"
      ]
     },
     "execution_count": 12,
     "metadata": {},
     "output_type": "execute_result"
    }
   ],
   "source": [
    "# 직관적인 검정 가능\n",
    "(ct - et) / et"
   ]
  },
  {
   "cell_type": "code",
   "execution_count": 13,
   "metadata": {},
   "outputs": [
    {
     "data": {
      "text/plain": [
       "(690.3488870446693,\n",
       " 4.284882201698415e-148,\n",
       " 4,\n",
       " array([[5.27636370e+04, 7.03810825e+01, 1.07981935e+02],\n",
       "        [1.03649621e+03, 1.38257576e+00, 2.12121212e+00],\n",
       "        [9.26866805e+02, 1.23634178e+00, 1.89685315e+00]]))"
      ]
     },
     "execution_count": 13,
     "metadata": {},
     "output_type": "execute_result"
    }
   ],
   "source": [
    "# 자동으로 계산해주는 함수\n",
    "from scipy.stats import chi2_contingency\n",
    "chi2_contingency(ct)"
   ]
  },
  {
   "cell_type": "code",
   "execution_count": null,
   "metadata": {},
   "outputs": [],
   "source": [
    "# 13 - 16"
   ]
  }
 ],
 "metadata": {
  "kernelspec": {
   "display_name": "Python 3.9.12 64-bit",
   "language": "python",
   "name": "python3"
  },
  "language_info": {
   "codemirror_mode": {
    "name": "ipython",
    "version": 3
   },
   "file_extension": ".py",
   "mimetype": "text/x-python",
   "name": "python",
   "nbconvert_exporter": "python",
   "pygments_lexer": "ipython3",
   "version": "3.9.12"
  },
  "orig_nbformat": 4,
  "vscode": {
   "interpreter": {
    "hash": "b0fa6594d8f4cbf19f97940f81e996739fb7646882a419484c72d19e05852a7e"
   }
  }
 },
 "nbformat": 4,
 "nbformat_minor": 2
}
